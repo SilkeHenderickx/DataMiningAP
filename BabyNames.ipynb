{
 "cells": [
  {
   "cell_type": "code",
   "execution_count": 26,
   "metadata": {},
   "outputs": [],
   "source": [
    "from pyspark.sql import SQLContext\n",
    "from pyspark.sql.types import *\n",
    "import folium\n",
    "import plotly.plotly as py\n",
    "import plotly.graph_objs as go\n",
    "import plotly\n",
    "plotly.tools.set_credentials_file(username='silkeh', api_key='GwBAmaelgKfgkrmuL691')"
   ]
  },
  {
   "cell_type": "code",
   "execution_count": 13,
   "metadata": {},
   "outputs": [],
   "source": [
    "def create_data_list(data):\n",
    "    data_list = data.collect()\n",
    "    #delete header\n",
    "    del data_list[0]\n",
    "    templist = []\n",
    "    for item in data_list:\n",
    "        temp = item.split(\",\")\n",
    "        del temp[0]\n",
    "        templist.append(temp)\n",
    "    return templist"
   ]
  },
  {
   "cell_type": "code",
   "execution_count": 3,
   "metadata": {
    "scrolled": true
   },
   "outputs": [
    {
     "name": "stdout",
     "output_type": "stream",
     "text": [
      "['Mary', '1880', 'F', '7065']\n",
      "['Anna', '1880', 'F', '2604']\n",
      "['Emma', '1880', 'F', '2003']\n",
      "['Elizabeth', '1880', 'F', '1939']\n",
      "['Minnie', '1880', 'F', '1746']\n",
      "['Margaret', '1880', 'F', '1578']\n",
      "['Ida', '1880', 'F', '1472']\n",
      "['Alice', '1880', 'F', '1414']\n",
      "['Bertha', '1880', 'F', '1320']\n",
      "['Sarah', '1880', 'F', '1288']\n",
      "['Annie', '1880', 'F', '1258']\n",
      "['Clara', '1880', 'F', '1226']\n",
      "['Ella', '1880', 'F', '1156']\n",
      "['Florence', '1880', 'F', '1063']\n",
      "['Cora', '1880', 'F', '1045']\n",
      "['Martha', '1880', 'F', '1040']\n",
      "['Laura', '1880', 'F', '1012']\n",
      "['Nellie', '1880', 'F', '995']\n",
      "['Grace', '1880', 'F', '982']\n",
      "['Carrie', '1880', 'F', '949']\n"
     ]
    }
   ],
   "source": [
    "#US Baby Names\n",
    "#NationalNames.csv\n",
    "#Id,Name,Year,Gender,Count\n",
    "nationalname_data = (sc.textFile('../Project/us-baby-names/NationalNames.csv'))\n",
    "nationalname_list = create_data_list(nationalname_data)\n",
    "for x in range(0,20):\n",
    "    print(nationalname_list[x])\n",
    "\n"
   ]
  },
  {
   "cell_type": "code",
   "execution_count": 4,
   "metadata": {},
   "outputs": [
    {
     "name": "stdout",
     "output_type": "stream",
     "text": [
      "['Mary', '1910', 'F', 'AK', '14']\n",
      "['Annie', '1910', 'F', 'AK', '12']\n",
      "['Anna', '1910', 'F', 'AK', '10']\n",
      "['Margaret', '1910', 'F', 'AK', '8']\n",
      "['Helen', '1910', 'F', 'AK', '7']\n",
      "['Elsie', '1910', 'F', 'AK', '6']\n",
      "['Lucy', '1910', 'F', 'AK', '6']\n",
      "['Dorothy', '1910', 'F', 'AK', '5']\n",
      "['Mary', '1911', 'F', 'AK', '12']\n",
      "['Margaret', '1911', 'F', 'AK', '7']\n",
      "['Ruth', '1911', 'F', 'AK', '7']\n",
      "['Annie', '1911', 'F', 'AK', '6']\n",
      "['Elizabeth', '1911', 'F', 'AK', '6']\n",
      "['Helen', '1911', 'F', 'AK', '6']\n",
      "['Mary', '1912', 'F', 'AK', '9']\n",
      "['Elsie', '1912', 'F', 'AK', '8']\n",
      "['Agnes', '1912', 'F', 'AK', '7']\n",
      "['Anna', '1912', 'F', 'AK', '7']\n",
      "['Helen', '1912', 'F', 'AK', '7']\n",
      "['Louise', '1912', 'F', 'AK', '7']\n"
     ]
    }
   ],
   "source": [
    "#State Baby Names\n",
    "#StateNames.csv\n",
    "#Id,Name,Year,Gender,State,Count\n",
    "statename_list = []\n",
    "for x in range(0,12):\n",
    "    statename_data = (sc.textFile('../Project/us-baby-names/StateNames_' + str(x) + '.csv'))\n",
    "    statename_list.extend(create_data_list(statename_data))\n",
    "for x in range(0,20):\n",
    "    print(statename_list[x])\n"
   ]
  },
  {
   "cell_type": "code",
   "execution_count": 8,
   "metadata": {},
   "outputs": [
    {
     "name": "stdout",
     "output_type": "stream",
     "text": [
      "['Helen', '1910', 'F', 'SD', '60']\n",
      "['Mary', '1910', 'F', 'SD', '58']\n",
      "['Ruth', '1910', 'F', 'SD', '52']\n",
      "['Dorothy', '1910', 'F', 'SD', '50']\n",
      "['Florence', '1910', 'F', 'SD', '49']\n",
      "['Margaret', '1910', 'F', 'SD', '43']\n",
      "['Mildred', '1910', 'F', 'SD', '43']\n",
      "['Evelyn', '1910', 'F', 'SD', '40']\n",
      "['Gladys', '1910', 'F', 'SD', '39']\n",
      "['Viola', '1910', 'F', 'SD', '38']\n",
      "['Alice', '1910', 'F', 'SD', '37']\n",
      "['Frances', '1910', 'F', 'SD', '36']\n",
      "['Anna', '1910', 'F', 'SD', '34']\n",
      "['Marie', '1910', 'F', 'SD', '34']\n",
      "['Hazel', '1910', 'F', 'SD', '31']\n",
      "['Esther', '1910', 'F', 'SD', '30']\n",
      "['Lucille', '1910', 'F', 'SD', '30']\n",
      "['Elsie', '1910', 'F', 'SD', '29']\n",
      "['Edna', '1910', 'F', 'SD', '27']\n",
      "['Irene', '1910', 'F', 'SD', '27']\n"
     ]
    }
   ],
   "source": [
    "alabama_list = list(filter(lambda x: x[3] == 'AL', statename_list))\n",
    "alaska_list = list(filter(lambda x: x[3] == 'AK', statename_list))\n",
    "arizona_list = list(filter(lambda x: x[3] == 'AZ', statename_list))\n",
    "arkansas_list = list(filter(lambda x: x[3] == 'AR', statename_list))\n",
    "california_list = list(filter(lambda x: x[3] == 'CA', statename_list))\n",
    "colorado_list = list(filter(lambda x: x[3] == 'CO', statename_list))\n",
    "connecticut_list = list(filter(lambda x: x[3] == 'AK', statename_list))\n",
    "delaware_list = list(filter(lambda x: x[3] == 'DE', statename_list))\n",
    "florida_list = list(filter(lambda x: x[3] == 'FL', statename_list))\n",
    "Georgia_list = list(filter(lambda x: x[3] == 'GA', statename_list))\n",
    "hawaii_list = list(filter(lambda x: x[3] == 'HI', statename_list))\n",
    "idaho_list = list(filter(lambda x: x[3] == 'ID', statename_list))\n",
    "illinois_list = list(filter(lambda x: x[3] == 'IL', statename_list))\n",
    "indiana_list = list(filter(lambda x: x[3] == 'IN', statename_list))\n",
    "iowa_list = list(filter(lambda x: x[3] == 'IA', statename_list))\n",
    "kansas_list = list(filter(lambda x: x[3] == 'KS', statename_list))\n",
    "kentucky_list = list(filter(lambda x: x[3] == 'KY', statename_list))\n",
    "louisiana_list = list(filter(lambda x: x[3] == 'LA', statename_list))\n",
    "maine_list = list(filter(lambda x: x[3] == 'ME', statename_list))\n",
    "maryland_list = list(filter(lambda x: x[3] == 'MD', statename_list))\n",
    "massachusetts_list = list(filter(lambda x: x[3] == 'MA', statename_list))\n",
    "michigan_list = list(filter(lambda x: x[3] == 'MI', statename_list))\n",
    "minnesota_list = list(filter(lambda x: x[3] == 'MN', statename_list))\n",
    "mississippi_list = list(filter(lambda x: x[3] == 'MS', statename_list))\n",
    "missouri_list = list(filter(lambda x: x[3] == 'MO', statename_list))\n",
    "montana_list = list(filter(lambda x: x[3] == 'MT', statename_list))\n",
    "nebraska_list = list(filter(lambda x: x[3] == 'NE', statename_list))\n",
    "nevada_list = list(filter(lambda x: x[3] == 'NV', statename_list))\n",
    "new_hampshire_list = list(filter(lambda x: x[3] == 'NH', statename_list))\n",
    "new_jersey_list = list(filter(lambda x: x[3] == 'NJ', statename_list))\n",
    "new_mexico_list = list(filter(lambda x: x[3] == 'NM', statename_list))\n",
    "new_york_list = list(filter(lambda x: x[3] == 'NY', statename_list))\n",
    "north_carolina_list = list(filter(lambda x: x[3] == 'NC', statename_list))\n",
    "north_dakota_list = list(filter(lambda x: x[3] == 'ND', statename_list))\n",
    "ohio_list = list(filter(lambda x: x[3] == 'OH', statename_list))\n",
    "oklahoma_list = list(filter(lambda x: x[3] == 'OK', statename_list))\n",
    "oregon_list = list(filter(lambda x: x[3] == 'OR', statename_list))\n",
    "pennsylvania_list = list(filter(lambda x: x[3] == 'PA', statename_list))\n",
    "rhode_island_list = list(filter(lambda x: x[3] == 'RI', statename_list))\n",
    "south_carolina_list = list(filter(lambda x: x[3] == 'SC', statename_list))\n",
    "south_dakota_list = list(filter(lambda x: x[3] == 'SD', statename_list))\n",
    "tennessee_list = list(filter(lambda x: x[3] == 'TN', statename_list))\n",
    "texas_list = list(filter(lambda x: x[3] == 'TX', statename_list))\n",
    "utah_list = list(filter(lambda x: x[3] == 'UT', statename_list))\n",
    "vermont_list = list(filter(lambda x: x[3] == 'VT', statename_list))\n",
    "virginia_list = list(filter(lambda x: x[3] == 'VA', statename_list))\n",
    "washington_list = list(filter(lambda x: x[3] == 'WA', statename_list))\n",
    "west_virginia_list = list(filter(lambda x: x[3] == 'WV', statename_list))\n",
    "wisconsin_list = list(filter(lambda x: x[3] == 'WI', statename_list))\n",
    "wyoming_list = list(filter(lambda x: x[3] == 'WY', statename_list))\n",
    "\n",
    "for x in range(0,20):\n",
    "    print(south_dakota_list[x])\n"
   ]
  },
  {
   "cell_type": "code",
   "execution_count": 28,
   "metadata": {},
   "outputs": [
    {
     "data": {
      "text/html": [
       "<iframe id=\"igraph\" scrolling=\"no\" style=\"border:none;\" seamless=\"seamless\" src=\"https://plot.ly/~silkeh/2.embed\" height=\"525px\" width=\"100%\"></iframe>"
      ],
      "text/plain": [
       "<plotly.tools.PlotlyDisplay object>"
      ]
     },
     "execution_count": 28,
     "metadata": {},
     "output_type": "execute_result"
    }
   ],
   "source": [
    "trc = dict (\n",
    "    type = 'choropleth',\n",
    "    locations = ['AZ', 'CA', 'VT'],\n",
    "    locationmode = 'USA-states',\n",
    "    colorscale ='Viridis',\n",
    "    z = ['Mary','Dorothy','Mary'])\n",
    "lyt = dict ( geo = dict (scope ='usa'))\n",
    "map = go.Figure (data = [trc],\n",
    "    layout = lyt)\n",
    "py.iplot(map)"
   ]
  },
  {
   "cell_type": "code",
   "execution_count": null,
   "metadata": {},
   "outputs": [],
   "source": []
  }
 ],
 "metadata": {
  "kernelspec": {
   "display_name": "Python 3",
   "language": "python",
   "name": "python3"
  },
  "language_info": {
   "codemirror_mode": {
    "name": "ipython",
    "version": 3
   },
   "file_extension": ".py",
   "mimetype": "text/x-python",
   "name": "python",
   "nbconvert_exporter": "python",
   "pygments_lexer": "ipython3",
   "version": "3.6.5"
  }
 },
 "nbformat": 4,
 "nbformat_minor": 2
}
