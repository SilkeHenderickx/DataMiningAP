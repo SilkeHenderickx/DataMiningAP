{
 "cells": [
  {
   "cell_type": "code",
   "execution_count": 4,
   "metadata": {},
   "outputs": [],
   "source": [
    "from pyspark.sql import SQLContext\n",
    "from pyspark.sql.types import *\n",
    "import folium\n",
    "import plotly.plotly as py\n",
    "import plotly.graph_objs as go\n",
    "import plotly\n",
    "plotly.tools.set_credentials_file(username='silkeh', api_key='GwBAmaelgKfgkrmuL691')\n",
    "#Eva\n",
    "#filepath = 'D:/Workspace/_DataMining/DataSets'\n",
    "#Silke\n",
    "filepath = 'C:/Users/Silke/Documents/GitHub/DataMiningAP'"
   ]
  },
  {
   "cell_type": "code",
   "execution_count": 5,
   "metadata": {
    "scrolled": true
   },
   "outputs": [
    {
     "name": "stdout",
     "output_type": "stream",
     "text": [
      "[['676995', 'Arwen', '1968', 'F', '5'], ['690395', 'Arwen', '1969', 'F', '5'], ['700474', 'Arwen', '1970', 'F', '15'], ['715329', 'Arwen', '1971', 'F', '15'], ['730759', 'Arwen', '1972', 'F', '14'], ['746963', 'Arwen', '1973', 'F', '11'], ['761179', 'Arwen', '1974', 'F', '19'], ['776875', 'Arwen', '1975', 'F', '25'], ['794210', 'Arwen', '1976', 'F', '21'], ['811035', 'Arwen', '1977', 'F', '30']]\n"
     ]
    },
    {
     "data": {
      "text/html": [
       "<iframe id=\"igraph\" scrolling=\"no\" style=\"border:none;\" seamless=\"seamless\" src=\"https://plot.ly/~silkeh/8.embed\" height=\"525px\" width=\"100%\"></iframe>"
      ],
      "text/plain": [
       "<plotly.tools.PlotlyDisplay object>"
      ]
     },
     "execution_count": 5,
     "metadata": {},
     "output_type": "execute_result"
    }
   ],
   "source": [
    "#US Baby Names\n",
    "#NationalNames.csv\n",
    "#Id,Name,Year,Gender,Count\n",
    "nationalname_rdd_init = (sc.textFile(filepath + '/us-baby-names/NationalNames.csv'))\n",
    "nationalname_rdd = nationalname_rdd_init.filter(lambda x: 'Gender' not in x)\n",
    "nationalname_rdd = nationalname_rdd.map(lambda x: x.split(\",\"))\n",
    "\n",
    "#year = \"2005\"\n",
    "#nationalname_peryear_rdd = nationalname_rdd.filter(lambda x: x[2] == year)\n",
    "name = \"Arwen\"\n",
    "nationalname_rdd = nationalname_rdd.filter(lambda x: x[1] == name)\n",
    "# Create a trace\n",
    "#print(nationalname_rdd.map(lambda x: int(x[4])).take(10))\n",
    "#print(nationalname_rdd.map(lambda x: int(x[2])).take(10))\n",
    "\n",
    "trace = go.Scatter(\n",
    "    x = nationalname_rdd.map(lambda x: int(x[2])).collect(),\n",
    "    y = nationalname_rdd.map(lambda x: int(x[4])).collect()\n",
    ")\n",
    "\n",
    "data = [trace]\n",
    "\n",
    "py.iplot(data, filename='basic-line')\n"
   ]
  },
  {
   "cell_type": "code",
   "execution_count": 6,
   "metadata": {},
   "outputs": [
    {
     "name": "stdout",
     "output_type": "stream",
     "text": [
      "[['10737', 'Madison', '2001', 'F', 'AK', '54'], ['10738', 'Emily', '2001', 'F', 'AK', '47'], ['10739', 'Hannah', '2001', 'F', 'AK', '46'], ['10740', 'Ashley', '2001', 'F', 'AK', '40'], ['10741', 'Abigail', '2001', 'F', 'AK', '39'], ['10742', 'Elizabeth', '2001', 'F', 'AK', '33'], ['10743', 'Emma', '2001', 'F', 'AK', '31'], ['10744', 'Grace', '2001', 'F', 'AK', '31'], ['10745', 'Victoria', '2001', 'F', 'AK', '30'], ['10746', 'Haley', '2001', 'F', 'AK', '28']]\n"
     ]
    }
   ],
   "source": [
    "#State Baby Names\n",
    "#StateNames.csv\n",
    "#Id,Name,Year,Gender,State,Count\n",
    "full_statename_rdd_init = (sc.textFile(filepath + '/us-baby-names/StateNames.csv'))\n",
    "full_statename_rdd = full_statename_rdd_init.filter(lambda x: 'Gender' not in x).map(lambda x: x.split(\",\"))\n",
    "us_states = {\n",
    "        'AK': 'Alaska',\n",
    "        'AL': 'Alabama',\n",
    "        'AR': 'Arkansas',\n",
    "        'AS': 'American Samoa',\n",
    "        'AZ': 'Arizona',\n",
    "        'CA': 'California',\n",
    "        'CO': 'Colorado',\n",
    "        'CT': 'Connecticut',\n",
    "        'DC': 'District of Columbia',\n",
    "        'DE': 'Delaware',\n",
    "        'FL': 'Florida',\n",
    "        'GA': 'Georgia',\n",
    "        'GU': 'Guam',\n",
    "        'HI': 'Hawaii',\n",
    "        'IA': 'Iowa',\n",
    "        'ID': 'Idaho',\n",
    "        'IL': 'Illinois',\n",
    "        'IN': 'Indiana',\n",
    "        'KS': 'Kansas',\n",
    "        'KY': 'Kentucky',\n",
    "        'LA': 'Louisiana',\n",
    "        'MA': 'Massachusetts',\n",
    "        'MD': 'Maryland',\n",
    "        'ME': 'Maine',\n",
    "        'MI': 'Michigan',\n",
    "        'MN': 'Minnesota',\n",
    "        'MO': 'Missouri',\n",
    "        'MP': 'Northern Mariana Islands',\n",
    "        'MS': 'Mississippi',\n",
    "        'MT': 'Montana',\n",
    "        'NA': 'National',\n",
    "        'NC': 'North Carolina',\n",
    "        'ND': 'North Dakota',\n",
    "        'NE': 'Nebraska',\n",
    "        'NH': 'New Hampshire',\n",
    "        'NJ': 'New Jersey',\n",
    "        'NM': 'New Mexico',\n",
    "        'NV': 'Nevada',\n",
    "        'NY': 'New York',\n",
    "        'OH': 'Ohio',\n",
    "        'OK': 'Oklahoma',\n",
    "        'OR': 'Oregon',\n",
    "        'PA': 'Pennsylvania',\n",
    "        'PR': 'Puerto Rico',\n",
    "        'RI': 'Rhode Island',\n",
    "        'SC': 'South Carolina',\n",
    "        'SD': 'South Dakota',\n",
    "        'TN': 'Tennessee',\n",
    "        'TX': 'Texas',\n",
    "        'UT': 'Utah',\n",
    "        'VA': 'Virginia',\n",
    "        'VI': 'Virgin Islands',\n",
    "        'VT': 'Vermont',\n",
    "        'WA': 'Washington',\n",
    "        'WI': 'Wisconsin',\n",
    "        'WV': 'West Virginia',\n",
    "        'WY': 'Wyoming'\n",
    "}\n",
    "us_states_abbreviations = list(us_states.keys())\n",
    "\n",
    "year = '2001'\n",
    "\n",
    "statename_peryear_rdd = full_statename_rdd.filter(lambda x: x[2]== year)\n",
    "print(statename_peryear_rdd.take(10))\n"
   ]
  },
  {
   "cell_type": "code",
   "execution_count": 7,
   "metadata": {},
   "outputs": [
    {
     "ename": "NameError",
     "evalue": "name 'temp' is not defined",
     "output_type": "error",
     "traceback": [
      "\u001b[1;31m---------------------------------------------------------------------------\u001b[0m",
      "\u001b[1;31mNameError\u001b[0m                                 Traceback (most recent call last)",
      "\u001b[1;32m<ipython-input-7-008874f329f3>\u001b[0m in \u001b[0;36m<module>\u001b[1;34m()\u001b[0m\n\u001b[0;32m      1\u001b[0m \u001b[1;31m#print(temp.filter(lambda x: x[0] not in us_states_abbreviations).map(lambda x: x[0]).collect())\u001b[0m\u001b[1;33m\u001b[0m\u001b[1;33m\u001b[0m\u001b[0m\n\u001b[1;32m----> 2\u001b[1;33m \u001b[0mprint\u001b[0m\u001b[1;33m(\u001b[0m\u001b[0mtemp\u001b[0m\u001b[1;33m.\u001b[0m\u001b[0mmap\u001b[0m\u001b[1;33m(\u001b[0m\u001b[1;32mlambda\u001b[0m \u001b[0mx\u001b[0m\u001b[1;33m:\u001b[0m \u001b[0mx\u001b[0m\u001b[1;33m[\u001b[0m\u001b[1;36m0\u001b[0m\u001b[1;33m]\u001b[0m\u001b[1;33m)\u001b[0m\u001b[1;33m.\u001b[0m\u001b[0mcollect\u001b[0m\u001b[1;33m(\u001b[0m\u001b[1;33m)\u001b[0m\u001b[1;33m)\u001b[0m\u001b[1;33m\u001b[0m\u001b[0m\n\u001b[0m",
      "\u001b[1;31mNameError\u001b[0m: name 'temp' is not defined"
     ]
    }
   ],
   "source": [
    "#print(temp.filter(lambda x: x[0] not in us_states_abbreviations).map(lambda x: x[0]).collect())\n",
    "print(temp.map(lambda x: x[0]).collect())"
   ]
  },
  {
   "cell_type": "code",
   "execution_count": null,
   "metadata": {},
   "outputs": [],
   "source": [
    "alabama_rdd = full_statename_rdd.filter(lambda x: 'AL' in x)\n",
    "alaska_rdd = full_statename_rdd.filter(lambda x: 'AK' in x)\n",
    "arizona_rdd = full_statename_rdd.filter(lambda x: 'AZ' in x)\n",
    "arkansas_rdd = full_statename_rdd.filter(lambda x: 'AR' in x)\n",
    "california_rdd = full_statename_rdd.filter(lambda x: 'CA' in x)\n",
    "colorado_rdd = full_statename_rdd.filter(lambda x: 'CO' in x)\n",
    "connecticut_rdd = full_statename_rdd.filter(lambda x: 'AK' in x)\n",
    "delaware_rdd = full_statename_rdd.filter(lambda x: 'DE' in x)\n",
    "florida_rdd = full_statename_rdd.filter(lambda x: 'FL' in x)\n",
    "Georgia_rdd = full_statename_rdd.filter(lambda x: 'GA'in x)\n",
    "hawaii_rdd = full_statename_rdd.filter(lambda x: 'HI' in x)\n",
    "idaho_rdd = full_statename_rdd.filter(lambda x: 'ID'in x)\n",
    "illinois_rdd = full_statename_rdd.filter(lambda x: 'IL' in x)\n",
    "indiana_rdd = full_statename_rdd.filter(lambda x: 'IN' in x)\n",
    "iowa_rdd = full_statename_rdd.filter(lambda x: 'IA'in x)\n",
    "kansas_rdd = full_statename_rdd.filter(lambda x: 'KS' in x)\n",
    "kentucky_rdd = full_statename_rdd.filter(lambda x: 'KY' in x)\n",
    "louisiana_rdd = full_statename_rdd.filter(lambda x: 'LA' in x)\n",
    "maine_rdd = full_statename_rdd.filter(lambda x: 'ME' in x)\n",
    "maryland_rdd = full_statename_rdd.filter(lambda x: 'MD' in x)\n",
    "massachusetts_rdd = full_statename_rdd.filter(lambda x: 'MA' in x)\n",
    "michigan_rdd = full_statename_rdd.filter(lambda x: 'MI' in x)\n",
    "minnesota_rdd = full_statename_rdd.filter(lambda x: 'MN' in x)\n",
    "mississippi_rdd = full_statename_rdd.filter(lambda x: 'MS' in x)\n",
    "missouri_rdd = full_statename_rdd.filter(lambda x: 'MO' in x)\n",
    "montana_rdd = full_statename_rdd.filter(lambda x: 'MT' in x)\n",
    "nebraska_rdd = full_statename_rdd.filter(lambda x: 'NE' in x)\n",
    "nevada_rdd = full_statename_rdd.filter(lambda x: 'NV' in x)\n",
    "new_hampshire_rdd = full_statename_rdd.filter(lambda x: 'NH' in x)\n",
    "new_jersey_rdd = full_statename_rdd.filter(lambda x: 'NJ' in x)\n",
    "new_mexico_rdd = full_statename_rdd.filter(lambda x: 'NM' in x)\n",
    "new_york_rdd = full_statename_rdd.filter(lambda x: 'NY' in x)\n",
    "north_carolina_rdd = full_statename_rdd.filter(lambda x: 'NC' in x)\n",
    "north_dakota_rdd = full_statename_rdd.filter(lambda x: 'ND' in x)\n",
    "ohio_rdd = full_statename_rdd.filter(lambda x: 'OH' in x)\n",
    "oklahoma_rdd = full_statename_rdd.filter(lambda x: 'OK' in x)\n",
    "oregon_rdd = full_statename_rdd.filter(lambda x: 'OR' in x)\n",
    "pennsylvania_rdd = full_statename_rdd.filter(lambda x: 'PA' in x)\n",
    "rhode_island_rdd = full_statename_rdd.filter(lambda x: 'RI' in x)\n",
    "south_carolina_rdd = full_statename_rdd.filter(lambda x: 'SC' in x)\n",
    "south_dakota_rdd = full_statename_rdd.filter(lambda x: 'SD' in x)\n",
    "tennessee_rdd = full_statename_rdd.filter(lambda x: 'TN' in x)\n",
    "texas_rdd = full_statename_rdd.filter(lambda x: 'TX' in x)\n",
    "utah_rdd = full_statename_rdd.filter(lambda x: 'UT' in x)\n",
    "vermont_rdd = full_statename_rdd.filter(lambda x: 'VT' in x)\n",
    "virginia_rdd = full_statename_rdd.filter(lambda x: 'VA' in x)\n",
    "washington_rdd = full_statename_rdd.filter(lambda x: 'WA' in x)\n",
    "west_virginia_rdd = full_statename_rdd.filter(lambda x: 'WV' in x)\n",
    "wisconsin_rdd = full_statename_rdd.filter(lambda x: 'WI' in x)\n",
    "wyoming_rdd = full_statename_rdd.filter(lambda x: 'WY' in x)"
   ]
  },
  {
   "cell_type": "code",
   "execution_count": null,
   "metadata": {},
   "outputs": [],
   "source": [
    "\n"
   ]
  },
  {
   "cell_type": "code",
   "execution_count": null,
   "metadata": {
    "scrolled": true
   },
   "outputs": [],
   "source": [
    "trc = dict (\n",
    "    type = 'choropleth',\n",
    "    locations = ['AZ', 'CA', 'VT'],\n",
    "    locationmode = 'USA-states',\n",
    "    colorscale ='Viridis',\n",
    "    z = [10,20,50])\n",
    "lyt = dict ( geo = dict (scope ='usa'))\n",
    "map = go.Figure (data = [trc],\n",
    "    layout = lyt)\n",
    "py.iplot(map)"
   ]
  },
  {
   "cell_type": "code",
   "execution_count": null,
   "metadata": {},
   "outputs": [],
   "source": []
  }
 ],
 "metadata": {
  "kernelspec": {
   "display_name": "Python 3",
   "language": "python",
   "name": "python3"
  },
  "language_info": {
   "codemirror_mode": {
    "name": "ipython",
    "version": 3
   },
   "file_extension": ".py",
   "mimetype": "text/x-python",
   "name": "python",
   "nbconvert_exporter": "python",
   "pygments_lexer": "ipython3",
   "version": "3.6.5"
  }
 },
 "nbformat": 4,
 "nbformat_minor": 2
}
