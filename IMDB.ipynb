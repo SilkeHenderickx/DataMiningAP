{
 "cells": [
  {
   "cell_type": "code",
   "execution_count": 1,
   "metadata": {},
   "outputs": [],
   "source": [
    "from pyspark.sql import SQLContext\n",
    "from pyspark.sql.types import *\n",
    "import folium\n",
    "import plotly.plotly as py\n",
    "import plotly.graph_objs as go\n",
    "import plotly\n",
    "plotly.tools.set_credentials_file(username='silkeh', api_key='GwBAmaelgKfgkrmuL691')"
   ]
  },
  {
   "cell_type": "code",
   "execution_count": 2,
   "metadata": {},
   "outputs": [
    {
     "name": "stdout",
     "output_type": "stream",
     "text": [
      "['tt0000001\\tshort\\tCarmencita\\tCarmencita\\t0\\t1894\\t\\\\N\\t1\\tDocumentary,Short', 'tt0000002\\tshort\\tLe clown et ses chiens\\tLe clown et ses chiens\\t0\\t1892\\t\\\\N\\t5\\tAnimation,Short', 'tt0000003\\tshort\\tPauvre Pierrot\\tPauvre Pierrot\\t0\\t1892\\t\\\\N\\t4\\tAnimation,Comedy,Romance', 'tt0000004\\tshort\\tUn bon bock\\tUn bon bock\\t0\\t1892\\t\\\\N\\t\\\\N\\tAnimation,Short', 'tt0000005\\tshort\\tBlacksmith Scene\\tBlacksmith Scene\\t0\\t1893\\t\\\\N\\t1\\tComedy,Short', 'tt0000006\\tshort\\tChinese Opium Den\\tChinese Opium Den\\t0\\t1894\\t\\\\N\\t1\\tShort', 'tt0000007\\tshort\\tCorbett and Courtney Before the Kinetograph\\tCorbett and Courtney Before the Kinetograph\\t0\\t1894\\t\\\\N\\t1\\tShort,Sport', 'tt0000008\\tshort\\tEdison Kinetoscopic Record of a Sneeze\\tEdison Kinetoscopic Record of a Sneeze\\t0\\t1894\\t\\\\N\\t1\\tDocumentary,Short', 'tt0000009\\tmovie\\tMiss Jerry\\tMiss Jerry\\t0\\t1894\\t\\\\N\\t45\\tRomance', \"tt0000010\\tshort\\tEmployees Leaving the Lumière Factory\\tLa sortie de l'usine Lumière à Lyon\\t0\\t1895\\t\\\\N\\t1\\tDocumentary,Short\"]\n"
     ]
    }
   ],
   "source": [
    "#IMDB\n",
    "#title.basics\n",
    "#tconst, titleType, primaryTitle, originalTitle, isAdult, startYear, endYear, runtimeMinutes, genres\n",
    "titleBasics_data = (sc.textFile('D:/Workspace/_DataMining/DataSets/IMDB/titleBasics.tsv'))\n",
    "titleBasics_rdd = titleBasics_data\n",
    "                   .filter(lambda l: 'primaryTitle' not in l\n",
    "                   \n",
    "\n",
    "#create schema for df\n",
    "fields = []\n",
    "fields.append(StructField('tconst', StringType(), True))\n",
    "fields.append(StructField('titleType', StringType(), True))\n",
    "fields.append(StructField('primaryTitle', StringType(), True))\n",
    "fields.append(StructField('originalTitle', StringType(), True))\n",
    "fields.append(StructField('isAdult', BooleanType(), True))\n",
    "fields.append(StructField('startYear', IntegerType(), True))\n",
    "fields.append(StructField('endYear', IntegerType(), True))\n",
    "fields.append(StructField('runtimeMinutes', IntegerType(), True))\n",
    "fields.append(StructField('genres', StringType(), True))                           \n",
    "\n",
    "schema = StructType(fields)\n",
    "\n",
    "#create df\n",
    "titleBasics_df= sqlContext.createDataFrame(titleBasics_rdd, schema)\n",
    "\n",
    "#title.akas\n",
    "#\n",
    "\n"
   ]
  },
  {
   "cell_type": "code",
   "execution_count": null,
   "metadata": {},
   "outputs": [],
   "source": []
  }
 ],
 "metadata": {
  "kernelspec": {
   "display_name": "Python 3",
   "language": "python",
   "name": "python3"
  },
  "language_info": {
   "codemirror_mode": {
    "name": "ipython",
    "version": 3
   },
   "file_extension": ".py",
   "mimetype": "text/x-python",
   "name": "python",
   "nbconvert_exporter": "python",
   "pygments_lexer": "ipython3",
   "version": "3.6.5"
  }
 },
 "nbformat": 4,
 "nbformat_minor": 2
}
