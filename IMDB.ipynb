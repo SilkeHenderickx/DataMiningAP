{
 "cells": [
  {
   "cell_type": "code",
   "execution_count": null,
   "metadata": {},
   "outputs": [],
   "source": [
    "from pyspark.sql import SQLContext\n",
    "from pyspark.sql.types import *\n",
    "import folium\n",
    "import plotly.plotly as py\n",
    "import plotly.graph_objs as go\n",
    "import plotly\n",
    "plotly.tools.set_credentials_file(username='silkeh', api_key='GwBAmaelgKfgkrmuL691')"
   ]
  },
  {
   "cell_type": "code",
   "execution_count": null,
   "metadata": {},
   "outputs": [],
   "source": [
    "#IMDB\n",
    "#title.basics\n",
    "#tconst, titleType, primaryTitle, originalTitle, isAdult, startYear, endYear, runtimeMinutes, genres\n",
    "titleBasics_data = (sc.textFile('D:/Workspace/_DataMining/DataSets/IMDB/titleBasics.tsv'))\n",
    "titleBasics_rdd = (titleBasics_data\n",
    "                   .filter(lambda l: 'primaryTitle' not in l)\n",
    "                   .filter(lambda l: 'originalTitle' not in l)\n",
    "                   .filter(lambda l: 'runtimeMinutes' not in l)\n",
    "                   .filter(lambda l: 'genres' not in l))\n",
    "titleBasics_df= sqlContext.createDataFrame(titleBasics_rdd, schema)\n",
    "\n",
    "#create schema for df\n",
    "fields = []\n",
    "fields.append(StructField('tconst', StringType(), True))\n",
    "fields.append(StructField('titleType', StringType(), True))\n",
    "fields.append(StructField('isAdult', BooleanType(), True))\n",
    "fields.append(StructField('startYear', IntegerType(), True))\n",
    "fields.append(StructField('endYear', IntegerType(), True))\n",
    "\n",
    "schema = StructType(fields)\n",
    "\n",
    "#title.akas\n",
    "#\n",
    "\n"
   ]
  }
 ],
 "metadata": {
  "kernelspec": {
   "display_name": "Python 3",
   "language": "python",
   "name": "python3"
  },
  "language_info": {
   "codemirror_mode": {
    "name": "ipython",
    "version": 3
   },
   "file_extension": ".py",
   "mimetype": "text/x-python",
   "name": "python",
   "nbconvert_exporter": "python",
   "pygments_lexer": "ipython3",
   "version": "3.6.5"
  }
 },
 "nbformat": 4,
 "nbformat_minor": 2
}
