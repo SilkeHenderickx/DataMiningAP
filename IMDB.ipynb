{
 "cells": [
  {
   "cell_type": "markdown",
   "metadata": {},
   "source": [
    "# Imports"
   ]
  },
  {
   "cell_type": "code",
   "execution_count": 3,
   "metadata": {},
   "outputs": [],
   "source": [
    "from pyspark.sql import SQLContext\n",
    "from pyspark.sql.types import *\n",
    "import folium\n",
    "import plotly.plotly as py\n",
    "import plotly.graph_objs as go\n",
    "import plotly\n",
    "plotly.tools.set_credentials_file(username='silkeh', api_key='GwBAmaelgKfgkrmuL691')"
   ]
  },
  {
   "cell_type": "markdown",
   "metadata": {},
   "source": [
    "# IMDB\n",
    "## Creation of RDD's and DF's"
   ]
  },
  {
   "cell_type": "code",
   "execution_count": 5,
   "metadata": {},
   "outputs": [
    {
     "name": "stdout",
     "output_type": "stream",
     "text": [
      "\n",
      "succes\n",
      "[Row(tconst='tt0000001', titleType='short', primaryTitle='Carmencita', originalTitle='Carmencita', isAdult='0', startYear='1894', endYear='\\\\N', runtimeMinutes='1', genres='Documentary,Short'), Row(tconst='tt0000002', titleType='short', primaryTitle='Le clown et ses chiens', originalTitle='Le clown et ses chiens', isAdult='0', startYear='1892', endYear='\\\\N', runtimeMinutes='5', genres='Animation,Short')]\n"
     ]
    }
   ],
   "source": [
    "separator = '\\t'\n",
    "\n",
    "#TITLE.BASICS\n",
    "#tconst, titleType, primaryTitle, originalTitle, isAdult, startYear, endYear, runtimeMinutes, genres\n",
    "titleBasics_data = sc.textFile('D:/Workspace/_DataMining/DataSets/IMDB/titleBasics.tsv')\n",
    "titleBasics_rdd = titleBasics_data.filter(lambda l: 'primaryTitle' not in l).map(lambda l: l.split(separator))\n",
    "\n",
    "#create schema for df\n",
    "tbFields = []\n",
    "tbFields.append(StructField('tconst', StringType(), True))\n",
    "tbFields.append(StructField('titleType', StringType(), True))\n",
    "tbFields.append(StructField('primaryTitle', StringType(), True))\n",
    "tbFields.append(StructField('originalTitle', StringType(), True))\n",
    "tbFields.append(StructField('isAdult', StringType(), True))\n",
    "tbFields.append(StructField('startYear', StringType(), True))\n",
    "tbFields.append(StructField('endYear', StringType(), True))\n",
    "tbFields.append(StructField('runtimeMinutes', StringType(), True))\n",
    "tbFields.append(StructField('genres', StringType(), True))                           \n",
    "\n",
    "tbSchema = StructType(tbFields)\n",
    "\n",
    "#create df\n",
    "try:\n",
    "    titleBasics_df= sqlContext.createDataFrame(titleBasics_rdd, tbSchema)\n",
    "    print('')\n",
    "    print('succes')\n",
    "    print(titleBasics_df.take(2))\n",
    "except Exception as e:\n",
    "    print (e) \n"
   ]
  },
  {
   "cell_type": "code",
   "execution_count": 43,
   "metadata": {},
   "outputs": [
    {
     "name": "stdout",
     "output_type": "stream",
     "text": [
      "\n",
      "succes\n"
     ]
    }
   ],
   "source": [
    "#TITLE.AKAS\n",
    "#tconst, ordering, title, region, language, types, attributes, isOriginalTitle\n",
    "titleAkas_data = sc.textFile('D:/Workspace/_DataMining/DataSets/IMDB/titleAkas.tsv')\n",
    "titleAkas_rdd = titleAkas_data.filter(lambda l: 'ordering' not in l).map(lambda l: l.split(separator))\n",
    "\n",
    "#create schema for df\n",
    "taFields = []\n",
    "taFields.append(StructField('titleId', StringType(), True))\n",
    "taFields.append(StructField('ordering', StringType(), True))\n",
    "taFields.append(StructField('title', StringType(), True))\n",
    "taFields.append(StructField('region', StringType(), True))\n",
    "taFields.append(StructField('language', StringType(), True))\n",
    "taFields.append(StructField('types', StringType(), True))\n",
    "taFields.append(StructField('attributes', StringType(), True))\n",
    "taFields.append(StructField('isOriginalTitle', StringType(), True))                       \n",
    "\n",
    "taSchema = StructType(taFields)\n",
    "\n",
    "#create df\n",
    "try:\n",
    "    titleAkas_df= sqlContext.createDataFrame(titleAkas_rdd, taSchema)\n",
    "    print('')\n",
    "    print('succes')\n",
    "except Exception as e:\n",
    "    print (e) "
   ]
  },
  {
   "cell_type": "code",
   "execution_count": null,
   "metadata": {},
   "outputs": [],
   "source": [
    "#TITLE.PRINCIPALS\n",
    "#tconst, ordering, nconst, category, job, characters\n",
    "titlePrincipals_data = sc.textFile('D:/Workspace/_DataMining/DataSets/IMDB/titlePrincipals.tsv')\n",
    "titlePrincipals_rdd = titlePrincipals_data.filter(lambda l: 'ordering' not in l).map(lambda l: l.split(separator))\n",
    "\n",
    "#create schema for df\n",
    "tpFields = []\n",
    "tpFields.append(StructField('tconst', StringType(), True))\n",
    "tpFields.append(StructField('ordering', StringType(), True))\n",
    "tpFields.append(StructField('nconst', StringType(), True))\n",
    "tpFields.append(StructField('category', StringType(), True))\n",
    "tpFields.append(StructField('job', StringType(), True))\n",
    "tpFields.append(StructField('characters', StringType(), True))                     \n",
    "\n",
    "tpSchema = StructType(tpFields)\n",
    "\n",
    "#create df\n",
    "try:\n",
    "    titlePrincipals_df= sqlContext.createDataFrame(titlePrincipals_rdd, tpSchema)\n",
    "    print('')\n",
    "    print('succes')\n",
    "except Exception as e:\n",
    "    print (e) "
   ]
  },
  {
   "cell_type": "code",
   "execution_count": null,
   "metadata": {},
   "outputs": [],
   "source": [
    "#TITLE.RATINGS\n",
    "#tconst, averageRating, numVotes\n",
    "titleRatings_data = sc.textFile('D:/Workspace/_DataMining/DataSets/IMDB/titleRatings.tsv')\n",
    "titleRatings_rdd = titleRatings_data.filter(lambda l: 'averageRating' not in l).map(lambda l: l.split(separator))\n",
    "\n",
    "#create schema for df\n",
    "trFields = []\n",
    "trFields.append(StructField('tconst', StringType(), True))\n",
    "trFields.append(StructField('averageRating', StringType(), True))\n",
    "trFields.append(StructField('numVotes', StringType(), True))                    \n",
    "\n",
    "trSchema = StructType(trFields)\n",
    "\n",
    "#create df\n",
    "try:\n",
    "    titleRatings_df= sqlContext.createDataFrame(titleRatings_rdd, trSchema)\n",
    "    print('')\n",
    "    print('succes')\n",
    "except Exception as e:\n",
    "    print(e) "
   ]
  },
  {
   "cell_type": "code",
   "execution_count": null,
   "metadata": {},
   "outputs": [],
   "source": [
    "#TITLE.EPISODE\n",
    "#tconst, parentTconst, seasonNumber, episodeNumber\n",
    "titleEpisode_data = sc.textFile('D:/Workspace/_DataMining/DataSets/IMDB/titleEpisode.tsv')\n",
    "titleEpisode_rdd = titleEpisode_data.filter(lambda l: 'seasonNumber' not in l).map(lambda l: l.split(separator))\n",
    "\n",
    "#create schema for df\n",
    "teFields = []\n",
    "teFields.append(StructField('tconst', StringType(), True))\n",
    "teFields.append(StructField('parentTconst', StringType(), True))\n",
    "teFields.append(StructField('seasonNumber', StringType(), True))\n",
    "teFields.append(StructField('episodeNumber', StringType(), True))                    \n",
    "\n",
    "teSchema = StructType(teFields)\n",
    "\n",
    "#create df\n",
    "try:\n",
    "    titleEpisode_df= sqlContext.createDataFrame(titleEpisode_rdd, teSchema)\n",
    "    print('')\n",
    "    print('succes')\n",
    "except Exception as e:\n",
    "    print(e) "
   ]
  },
  {
   "cell_type": "code",
   "execution_count": null,
   "metadata": {},
   "outputs": [],
   "source": [
    "#NAME.BASICS\n",
    "#nconst, primaryName, birthYear, deathYear, primaryProfession, knownForTitles\n",
    "nameBasics_data = sc.textFile('D:/Workspace/_DataMining/DataSets/IMDB/nameBasics.tsv')\n",
    "nameBasics_rdd = nameBasics_data.filter(lambda l: 'primaryName' not in l).map(lambda l: l.split(separator))\n",
    "\n",
    "#create schema for df\n",
    "nmFields = []\n",
    "nmFields.append(StructField('tconst', StringType(), True))\n",
    "nmFields.append(StructField('primaryName', StringType(), True))\n",
    "nmFields.append(StructField('birthYear', StringType(), True))\n",
    "nmFields.append(StructField('deathYear', StringType(), True))\n",
    "nmFields.append(StructField('primaryProfession', StringType(), True))\n",
    "nmFields.append(StructField('knownForTitles', StringType(), True))\n",
    "\n",
    "nmSchema = StructType(nmFields)\n",
    "\n",
    "#create df\n",
    "try:\n",
    "    nameBasics_df= sqlContext.createDataFrame(nameBasics_rdd, nmSchema)\n",
    "    print('')\n",
    "    print('succes')\n",
    "except Exception as e:\n",
    "    print(e) "
   ]
  },
  {
   "cell_type": "markdown",
   "metadata": {},
   "source": [
    "## Join title.Basics and title.Akas"
   ]
  },
  {
   "cell_type": "code",
   "execution_count": 46,
   "metadata": {},
   "outputs": [
    {
     "name": "stdout",
     "output_type": "stream",
     "text": [
      "+---------+--------------------+------+---------+-------+---------+-------+\n",
      "|  titleId|               title|region|titleType|isAdult|startYear|endYear|\n",
      "+---------+--------------------+------+---------+-------+---------+-------+\n",
      "|tt0000001|          Carmencita|    US|    short|      0|     1894|     \\N|\n",
      "|tt0000002|The Clown and His...|    US|    short|      0|     1892|     \\N|\n",
      "|tt0000005| Blacksmithing Scene|    US|    short|      0|     1893|     \\N|\n",
      "+---------+--------------------+------+---------+-------+---------+-------+\n",
      "only showing top 3 rows\n",
      "\n"
     ]
    }
   ],
   "source": [
    "tB_df = titleBasics_df.alias('tB_df')\n",
    "tA_df = titleAkas_df.alias('tA_df')\n",
    "\n",
    "tA_df_Filtered = tA_df.filter(tA_df.region =='US')\n",
    "tA_df_Distinct = tA_df_Filtered.dropDuplicates(['titleId']).sort('titleId', ascending=True)\n",
    "\n",
    "#tA_df_Distinct.show(5, truncate =True)\n",
    "\n",
    "\n",
    "tA_Join_tB = tA_df_Distinct.join(tB_df, tA_df_Distinct.titleId == tB_df.tconst, how='left').sort('titleId', ascending=True)\n",
    "\n",
    "tAtB_reduced = tA_Join_tB.drop('ordering', 'language', 'types', \n",
    "                               'attributes', 'isOriginalTitle', 'tconst', \n",
    "                               'primaryTitle', 'originalTitle', 'runtimeMinutes', \n",
    "                               'genres')\n",
    "\n",
    "tAtB_reduced.show(3, truncate = True)\n",
    "\n"
   ]
  },
  {
   "cell_type": "code",
   "execution_count": null,
   "metadata": {},
   "outputs": [],
   "source": []
  }
 ],
 "metadata": {
  "kernelspec": {
   "display_name": "Python 3",
   "language": "python",
   "name": "python3"
  },
  "language_info": {
   "codemirror_mode": {
    "name": "ipython",
    "version": 3
   },
   "file_extension": ".py",
   "mimetype": "text/x-python",
   "name": "python",
   "nbconvert_exporter": "python",
   "pygments_lexer": "ipython3",
   "version": "3.6.5"
  }
 },
 "nbformat": 4,
 "nbformat_minor": 2
}
