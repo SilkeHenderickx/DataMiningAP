{
 "cells": [
  {
   "cell_type": "code",
   "execution_count": 1,
   "metadata": {},
   "outputs": [],
   "source": [
    "from pyspark.sql import SQLContext\n",
    "from pyspark.sql.types import *\n",
    "import folium\n",
    "import plotly.plotly as py\n",
    "import plotly.graph_objs as go\n",
    "import plotly\n",
    "plotly.tools.set_credentials_file(username='silkeh', api_key='GwBAmaelgKfgkrmuL691')"
   ]
  },
  {
   "cell_type": "code",
   "execution_count": 16,
   "metadata": {},
   "outputs": [
    {
     "name": "stdout",
     "output_type": "stream",
     "text": [
      "[['tt0035599', 'tvSeries', 'Voice of Firestone Televues', 'Voice of Firestone Televues', '0', '1943', '1947', '15', '\\\\N'], ['tt0038276', 'tvSeries', 'You Are an Artist', 'You Are an Artist', '0', '1946', '1950', '15', '\\\\N']]\n",
      "succes\n"
     ]
    }
   ],
   "source": [
    "#IMDB\n",
    "#title.basics\n",
    "#tconst, titleType, primaryTitle, originalTitle, isAdult, startYear, endYear, runtimeMinutes, genres\n",
    "titleBasics_data = (sc.textFile('D:/Workspace/_DataMining/DataSets/IMDB/titleBasics.tsv'))\n",
    "\n",
    "separator = '\\t'\n",
    "\n",
    "titleBasics_rdd = titleBasics_data.filter(lambda l: 'primaryTitle' not in l).map(lambda l: l.split(separator))\n",
    "\n",
    "tbFiltered_rdd = titleBasics_rdd.filter(lambda l: l[4] == '0' and l[1] == 'tvSeries' or  l[1] == 'tvEpisode')\n",
    "\n",
    "print(tbFiltered_rdd.take(2)) \n",
    "\n",
    "#create schema for df\n",
    "#tbFields = titleBasicsFields\n",
    "tbFields = []\n",
    "tbFields.append(StructField('tconst', StringType(), True))\n",
    "tbFields.append(StructField('titleType', StringType(), True))\n",
    "tbFields.append(StructField('primaryTitle', StringType(), True))\n",
    "tbFields.append(StructField('originalTitle', StringType(), True))\n",
    "tbFields.append(StructField('isAdult', BooleanType(), True))\n",
    "tbFields.append(StructField('startYear', IntegerType(), True))\n",
    "tbFields.append(StructField('endYear', IntegerType(), True))\n",
    "tbFields.append(StructField('runtimeMinutes', IntegerType(), True))\n",
    "tbFields.append(StructField('genres', StringType(), True))                           \n",
    "\n",
    "tbSchema = StructType(tbFields)\n",
    "\n",
    "#create df\n",
    "try:\n",
    "    titleBasics_df= sqlContext.createDataFrame(titleBasics_rdd, tbSchema)\n",
    "    print('succes')\n",
    "except Exception as e:\n",
    "    print (e) \n",
    "\n"
   ]
  },
  {
   "cell_type": "code",
   "execution_count": null,
   "metadata": {},
   "outputs": [],
   "source": []
  }
 ],
 "metadata": {
  "kernelspec": {
   "display_name": "Python 3",
   "language": "python",
   "name": "python3"
  },
  "language_info": {
   "codemirror_mode": {
    "name": "ipython",
    "version": 3
   },
   "file_extension": ".py",
   "mimetype": "text/x-python",
   "name": "python",
   "nbconvert_exporter": "python",
   "pygments_lexer": "ipython3",
   "version": "3.6.5"
  }
 },
 "nbformat": 4,
 "nbformat_minor": 2
}
